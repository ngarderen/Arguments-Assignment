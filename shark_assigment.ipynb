{
  "nbformat": 4,
  "nbformat_minor": 0,
  "metadata": {
    "colab": {
      "provenance": [],
      "authorship_tag": "ABX9TyOjrLWxqlJDmcADs4Y0DYUg",
      "include_colab_link": true
    },
    "kernelspec": {
      "name": "python3",
      "display_name": "Python 3"
    },
    "language_info": {
      "name": "python"
    }
  },
  "cells": [
    {
      "cell_type": "markdown",
      "metadata": {
        "id": "view-in-github",
        "colab_type": "text"
      },
      "source": [
        "<a href=\"https://colab.research.google.com/github/ngarderen/Arguments-Assignment/blob/main/shark_assigment.ipynb\" target=\"_parent\"><img src=\"https://colab.research.google.com/assets/colab-badge.svg\" alt=\"Open In Colab\"/></a>"
      ]
    },
    {
      "cell_type": "code",
      "source": [],
      "metadata": {
        "id": "hPEQ5lxlBipU"
      },
      "execution_count": null,
      "outputs": []
    },
    {
      "cell_type": "markdown",
      "source": [
        "shortcuts\n"
      ],
      "metadata": {
        "id": "-bCcl3h6JQtq"
      }
    },
    {
      "cell_type": "markdown",
      "source": [
        "Shark assigment:\n",
        "\n",
        "\n",
        "\n",
        "1.   what are the most dangerous types of sharks to humans? \n",
        "2.   Are children more likely to be attacked by sharks?\n",
        "3.   Are shark attacks where sharks were provoked more or less dangerous?\n",
        "4.   Are certain activities more likely to result in a shark attack?"
      ],
      "metadata": {
        "id": "ILZUMYfHBgVu"
      }
    },
    {
      "cell_type": "code",
      "execution_count": 16,
      "metadata": {
        "id": "LlxRCJq8Arwl"
      },
      "outputs": [],
      "source": [
        "import numpy as np"
      ]
    },
    {
      "cell_type": "code",
      "source": [
        "print(\"test\")"
      ],
      "metadata": {
        "id": "tr7DhWBnOce9"
      },
      "execution_count": null,
      "outputs": []
    },
    {
      "cell_type": "code",
      "source": [
        "print(\"home\")"
      ],
      "metadata": {
        "id": "sVnbjJvxPVrc"
      },
      "execution_count": null,
      "outputs": []
    }
  ]
}